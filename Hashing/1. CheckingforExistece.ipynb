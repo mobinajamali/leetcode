{
 "cells": [
  {
   "cell_type": "markdown",
   "metadata": {},
   "source": [
    "> #### One of the most common applications of a hash table or set is determining if an element exists in  O(1). Since an array needs  O(n) to do this, using a hash map or set can improve the time complexity of an algorithm greatly"
   ]
  },
  {
   "cell_type": "markdown",
   "metadata": {},
   "source": [
    "## Anytime you find your algorithm running if ... in ..., then consider using a hash map or set to store elements to have these operations run in O(1)."
   ]
  },
  {
   "cell_type": "markdown",
   "metadata": {},
   "source": [
    "#### Example 1: Two Sum. Given an array of integers nums and an integer target, return indices of two numbers such that they add up to target. You cannot use the same index twice."
   ]
  },
  {
   "cell_type": "code",
   "execution_count": 1,
   "metadata": {},
   "outputs": [],
   "source": [
    "class Solution():\n",
    "    def twoSum(self, nums, target):\n",
    "        dic = {}\n",
    "        for i in range(len(nums)):\n",
    "            complement = target - nums[i]\n",
    "            if complement in dic:\n",
    "                return [i, dic[complement]]\n",
    "            \n",
    "            dic[nums[i]] = i\n",
    "        \n",
    "        return [-1, -1]"
   ]
  },
  {
   "cell_type": "code",
   "execution_count": 2,
   "metadata": {},
   "outputs": [
    {
     "name": "stdout",
     "output_type": "stream",
     "text": [
      "[4, 0]\n"
     ]
    }
   ],
   "source": [
    "sol = Solution()\n",
    "result = sol.twoSum([5, 2, 7, 10, 3, 9], 8)\n",
    "print(result)"
   ]
  },
  {
   "cell_type": "markdown",
   "metadata": {},
   "source": [
    "#### Example 2: First Letter to Appear Twice. Given a string s, return the first character to appear twice. It is guaranteed that the input will have a duplicate character."
   ]
  },
  {
   "cell_type": "code",
   "execution_count": 3,
   "metadata": {},
   "outputs": [],
   "source": [
    "class Solution():\n",
    "    def letterTwice(self, s):\n",
    "        seen = set()\n",
    "        for ch in s:\n",
    "            if ch in seen:\n",
    "                return ch\n",
    "            seen.add(ch)\n",
    "        \n",
    "        return ''"
   ]
  },
  {
   "cell_type": "code",
   "execution_count": 4,
   "metadata": {},
   "outputs": [
    {
     "name": "stdout",
     "output_type": "stream",
     "text": [
      "d\n"
     ]
    }
   ],
   "source": [
    "sol = Solution()\n",
    "result = sol.letterTwice('abcdeda')\n",
    "print(result)"
   ]
  },
  {
   "cell_type": "markdown",
   "metadata": {},
   "source": [
    "#### Example 3: Given an integer array nums, find all the unique numbers x in nums that satisfy the following: x + 1 is not in nums, and x - 1 is not in nums."
   ]
  },
  {
   "cell_type": "code",
   "execution_count": 5,
   "metadata": {},
   "outputs": [],
   "source": [
    "class Solution():\n",
    "    def uniqueNumbers(self, nums):\n",
    "        ans = []\n",
    "        nums = set(nums)\n",
    "\n",
    "        for num in nums:\n",
    "            if (num + 1 not in nums) and (num - 1 not in nums):\n",
    "                ans.append(num)\n",
    "        \n",
    "        return ans"
   ]
  },
  {
   "cell_type": "markdown",
   "metadata": {},
   "source": [
    "#### Check if the Sentence Is Pangram: A pangram is a sentence where every letter of the English alphabet appears at least once. Given a string sentence containing only lowercase English letters, return true if sentence is a pangram, or false otherwise."
   ]
  },
  {
   "cell_type": "code",
   "execution_count": 6,
   "metadata": {},
   "outputs": [],
   "source": [
    "class Solution():\n",
    "    def pangram(self, sentence):\n",
    "\n",
    "        alph = 'abcdefghijklmnopqrstuvwxyz'\n",
    "        seen = set()\n",
    "        for ch in sentence:\n",
    "            seen.add(ch)\n",
    "\n",
    "        if len(seen) == 26:\n",
    "            return True\n",
    "        else:\n",
    "            return False"
   ]
  },
  {
   "cell_type": "markdown",
   "metadata": {},
   "source": [
    "#### Missing number: Given an array nums containing n distinct numbers in the range [0, n], return the only number in the range that is missing from the array."
   ]
  },
  {
   "cell_type": "code",
   "execution_count": null,
   "metadata": {},
   "outputs": [],
   "source": [
    "class Solution():\n",
    "    def missingNumber(self, nums):\n",
    "        n = len(nums)\n",
    "        expected_sum = n * (n + 1) // 2\n",
    "        actual_sum = sum(nums)\n",
    "        return expected_sum - actual_sum"
   ]
  },
  {
   "cell_type": "markdown",
   "metadata": {},
   "source": [
    "#### Counting Elements: Given an integer array arr, count how many elements x there are, such that x + 1 is also in arr. If there are duplicates in arr, count them separately."
   ]
  },
  {
   "cell_type": "code",
   "execution_count": null,
   "metadata": {},
   "outputs": [],
   "source": [
    "class Solution():\n",
    "    def countingElements(self, arr):\n",
    "        count = {}\n",
    "        for num in arr:\n",
    "            if num + 1 in arr:\n",
    "                count[num] = count.get(num, 0) + 1\n",
    "\n",
    "        return sum(count.values())"
   ]
  },
  {
   "cell_type": "code",
   "execution_count": null,
   "metadata": {},
   "outputs": [],
   "source": [
    "class Solution():\n",
    "    def countElement(self, arr):\n",
    "        count = 0\n",
    "        seen = set(arr)\n",
    "\n",
    "        for i in range(len(arr)):\n",
    "            if i + 1 in seen:\n",
    "                count += 1\n",
    "        \n",
    "        return count"
   ]
  },
  {
   "cell_type": "code",
   "execution_count": null,
   "metadata": {},
   "outputs": [],
   "source": []
  },
  {
   "cell_type": "code",
   "execution_count": null,
   "metadata": {},
   "outputs": [],
   "source": []
  }
 ],
 "metadata": {
  "kernelspec": {
   "display_name": "Python 3",
   "language": "python",
   "name": "python3"
  },
  "language_info": {
   "codemirror_mode": {
    "name": "ipython",
    "version": 3
   },
   "file_extension": ".py",
   "mimetype": "text/x-python",
   "name": "python",
   "nbconvert_exporter": "python",
   "pygments_lexer": "ipython3",
   "version": "3.9.6"
  }
 },
 "nbformat": 4,
 "nbformat_minor": 2
}
