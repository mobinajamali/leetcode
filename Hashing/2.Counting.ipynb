{
 "cells": [
  {
   "cell_type": "markdown",
   "metadata": {},
   "source": [
    "### Anytime you need to count anything, think about using a hash map to do it. Recall that when we were looking at sliding windows, some problems had their constraint as limiting the amount of a certain element in the window. For example, longest substring with at most k 0s. In those problems, we could simply use an integer variable curr because we are only focused on one element (we only cared about 0). A hash map opens the door to solving problems where the constraint involves multiple elements. "
   ]
  },
  {
   "cell_type": "markdown",
   "metadata": {},
   "source": [
    "#### Example 1: You are given a string s and an integer k. Find the length of the longest substring that contains at most k distinct characters. For example, given s = \"eceba\" and k = 2, return 3. The longest substring with at most 2 distinct characters is \"ece\"."
   ]
  },
  {
   "cell_type": "code",
   "execution_count": 1,
   "metadata": {},
   "outputs": [],
   "source": [
    "from collections import defaultdict\n",
    "\n",
    "class Solution():\n",
    "    def longestSubstring(self, s, k):\n",
    "        counts = defaultdict(int)\n",
    "        left = ans = 0\n",
    "\n",
    "        for right in range(len(s)):\n",
    "            counts[s[right]] += 1\n",
    "            \n",
    "            while len(counts) > k:\n",
    "                counts[s[left]] -= 1\n",
    "                if counts[s[left]] == 0:\n",
    "                    del counts[s[left]]\n",
    "                left += 1\n",
    "                \n",
    "            ans = max(ans, right - left + 1)\n",
    "        \n",
    "        return ans"
   ]
  },
  {
   "cell_type": "markdown",
   "metadata": {},
   "source": [
    "#### Example 2: Intersection of Multiple Array: Given a 2D array nums that contains n arrays of distinct integers, return a sorted array containing all the numbers that appear in all n arrays. For example, given nums = [[3,1,2,4,5],[1,2,3,4],[3,4,5,6]], return [3, 4]. 3 and 4 are the only numbers that are in all arrays."
   ]
  },
  {
   "cell_type": "code",
   "execution_count": 2,
   "metadata": {},
   "outputs": [],
   "source": [
    "from collections import defaultdict\n",
    "\n",
    "class Solution():\n",
    "    def intersectionArray(self, nums):\n",
    "        counts = defaultdict(int)\n",
    "        for arr in nums:\n",
    "            for i in arr:\n",
    "                counts[i] += 1\n",
    "\n",
    "        ans = []\n",
    "        for key in counts:\n",
    "            if counts[key] == len(nums):\n",
    "                ans.append(key)\n",
    "        \n",
    "        return sorted(ans)"
   ]
  },
  {
   "cell_type": "markdown",
   "metadata": {},
   "source": [
    "#### Example 3: Check if All Characters Have Equal Number of Occurrences. Given a string s, determine if all characters have the same frequency. For example, given s = \"abacbc\", return true. All characters appear twice. Given s = \"aaabb\", return false. \"a\" appears 3 times, \"b\" appears 2 times. 3 != 2."
   ]
  },
  {
   "cell_type": "code",
   "execution_count": 3,
   "metadata": {},
   "outputs": [],
   "source": [
    "class Solution:\n",
    "    def occurrence(self, s):\n",
    "        counts = defaultdict(int)\n",
    "\n",
    "        for ch in s:\n",
    "            counts[ch] += 1\n",
    "\n",
    "        frequesncy = counts.values()\n",
    "        return len(set(frequesncy)) == 1"
   ]
  },
  {
   "cell_type": "markdown",
   "metadata": {},
   "source": [
    "## Count the number of subarrays with an \"exact\" constraint (rather than less thsn k in sliding window problems)"
   ]
  },
  {
   "cell_type": "markdown",
   "metadata": {},
   "source": [
    "#### Example 4. Subbarray Sum Equal K: Given an integer array nums and an integer k, find the number of subarrays whose sum is equal to k."
   ]
  },
  {
   "cell_type": "code",
   "execution_count": 5,
   "metadata": {},
   "outputs": [],
   "source": [
    "class Solution:\n",
    "    def subarraySum(self, nums, k):\n",
    "        counts = defaultdict(int)\n",
    "        # the empty subarray has a sum of zero\n",
    "        counts[0] = 1\n",
    "        ans = curr = 0\n",
    "\n",
    "        for num in nums:\n",
    "            # curr records prefix sum\n",
    "            curr += num\n",
    "            ans += counts[curr - k]\n",
    "            counts[curr] += 1\n",
    "        \n",
    "        return ans"
   ]
  },
  {
   "cell_type": "markdown",
   "metadata": {},
   "source": [
    "#### Example 5. Count Number of Nice Subarrays: Given an array of positive integers nums and an integer k. Find the number of subarrays with exactly k odd numbers in them. For example, given nums = [1, 1, 2, 1, 1], k = 3, the answer is 2. The subarrays with 3 odd numbers in them are [1, 1, 2, 1, 1] and [1, 1, 2, 1, 1]."
   ]
  },
  {
   "cell_type": "code",
   "execution_count": 6,
   "metadata": {},
   "outputs": [],
   "source": [
    "class Solution:\n",
    "    def niceSubarray(self, nums, k):\n",
    "        counts = defaultdict(int)\n",
    "        counts[0] = 1\n",
    "        ans = curr = 0\n",
    "\n",
    "        for num in nums:\n",
    "            # if num is odd its mode is 1. curr tracks the count of odd numbers\n",
    "            curr += num % 2\n",
    "            ans += counts[curr - k]\n",
    "            counts[curr] += 1\n",
    "\n",
    "        return ans"
   ]
  },
  {
   "cell_type": "markdown",
   "metadata": {},
   "source": [
    "#### Find Players with Zero or One Losses: You are given an integer array matches where matches[i] = [winneri, loseri] indicates that the player winneri defeated player loseri in a match. Return a list answer of size 2 where:\n",
    "\n",
    "#### answer[0] is a list of all players that have not lost any matches. answer[1] is a list of all players that have lost exactly one match. The values in the two lists should be returned in increasing order.\n",
    "\n",
    "#### Note: You should only consider the players that have played at least one match. The testcases will be generated such that no two matches will have the same outcome.\n",
    " "
   ]
  },
  {
   "cell_type": "code",
   "execution_count": 7,
   "metadata": {},
   "outputs": [],
   "source": [
    "class Solution: \n",
    "    def findWinners(self, matches): \n",
    "        losses_count = {}\n",
    "        \n",
    "        for winner, loser in matches:\n",
    "            losses_count[winner] = losses_count.get(winner, 0)\n",
    "            losses_count[loser] = losses_count.get(loser, 0) + 1\n",
    "        \n",
    "        zero_lose, one_lose = [], []\n",
    "        for player, count in losses_count.items():\n",
    "            if count == 0:\n",
    "                zero_lose.append(player)\n",
    "            if count == 1:\n",
    "                one_lose.append(player)\n",
    "        \n",
    "        return [sorted(zero_lose), sorted(one_lose)]"
   ]
  },
  {
   "cell_type": "markdown",
   "metadata": {},
   "source": [
    "> Complexity Analysis\n",
    "Let nnn be the size of the input array matches.\n",
    "\n",
    "Time complexity: O(n⋅log⁡n)\n",
    "\n",
    "For each match in matches, we need to update the value of both players in losses_count. Operations on hash map require O(1) time. Thus the iteration over matches takes O(n) time.\n",
    "We need to store two kinds of players in two arrays and sort them. In the worst-case scenario, there may be O(n) players in these arrays, so it requires O(n⋅log⁡n)time.\n",
    "To sum up, the time complexity is O(n⋅log⁡n).\n",
    "Space complexity: O(n)\n",
    "\n",
    "We use a hash map to store all players and their number of losses, which requires O(n) space in the worst-case scenario."
   ]
  },
  {
   "cell_type": "markdown",
   "metadata": {},
   "source": [
    "#### Largest Unique Number: Given an integer array nums, return the largest integer that only occurs once. If no integer occurs once, return -1."
   ]
  },
  {
   "cell_type": "code",
   "execution_count": 9,
   "metadata": {},
   "outputs": [],
   "source": [
    "class Solution:\n",
    "    def largestNumber(self, nums):\n",
    "        num_count = defaultdict(int)\n",
    "\n",
    "        for num in nums:\n",
    "            num_count[num] = num_count.get(num, 0) + 1\n",
    "        \n",
    "        ans = []\n",
    "        for num, count in num_count.items():\n",
    "            if count == 1:\n",
    "                ans.append(num)\n",
    "        \n",
    "        return max(ans) if len(ans) != 0 else -1"
   ]
  },
  {
   "cell_type": "markdown",
   "metadata": {},
   "source": [
    "#### Maximum Number of Balloons: Given a string text, you want to use the characters of text to form as many instances of the word \"balloon\" as possible. You can use each character in text at most once. Return the maximum number of instances that can be formed.\n",
    "\n"
   ]
  },
  {
   "cell_type": "code",
   "execution_count": 12,
   "metadata": {},
   "outputs": [],
   "source": [
    "class Solution:\n",
    "    def maxBalloon(self, text):\n",
    "        char_count = defaultdict(int)\n",
    "        seen = set('balloon')\n",
    "\n",
    "        for ch in text:\n",
    "            if ch in seen:\n",
    "                char_count[ch] = char_count.get(ch, 0) + 1\n",
    "        \n",
    "        return min(char_count['b'], char_count['a'], char_count['l'] // 2, char_count['o'] // 2, char_count['n'])"
   ]
  },
  {
   "cell_type": "code",
   "execution_count": 11,
   "metadata": {},
   "outputs": [],
   "source": [
    "class Solution(object):\n",
    "    def maxNumberOfBalloons(self, text):\n",
    "        b  = text.count('b')\n",
    "        a  = text.count('a')\n",
    "        l  = text.count('l')//2\n",
    "        o  = text.count('o')//2\n",
    "        n  = text.count('n')\n",
    "        \n",
    "        return min(b,a,l,o,n)"
   ]
  },
  {
   "cell_type": "markdown",
   "metadata": {},
   "source": [
    "#### Contagious Array: Given a binary array nums, return the maximum length of a contiguous subarray with an equal number of 0 and 1. -> NOT FULLY SOLVED!"
   ]
  },
  {
   "cell_type": "code",
   "execution_count": null,
   "metadata": {},
   "outputs": [],
   "source": [
    "class Solution(object):\n",
    "    def findMaxLength(self, nums):\n",
    "        mapping = {0: -1}\n",
    "        ans = 0\n",
    "        count = 0\n",
    "\n",
    "        for i in range(len(nums)):\n",
    "            if nums[i] == 0:\n",
    "                count -= 1\n",
    "            else:\n",
    "                count += 1\n",
    "\n",
    "            if count not in mapping:\n",
    "                mapping[count] = i\n",
    "            else:\n",
    "                ans = max(ans, i - mapping[count])\n",
    "\n",
    "        return ans"
   ]
  },
  {
   "cell_type": "code",
   "execution_count": null,
   "metadata": {},
   "outputs": [],
   "source": []
  },
  {
   "cell_type": "code",
   "execution_count": null,
   "metadata": {},
   "outputs": [],
   "source": []
  },
  {
   "cell_type": "code",
   "execution_count": null,
   "metadata": {},
   "outputs": [],
   "source": []
  }
 ],
 "metadata": {
  "kernelspec": {
   "display_name": "Python 3",
   "language": "python",
   "name": "python3"
  },
  "language_info": {
   "codemirror_mode": {
    "name": "ipython",
    "version": 3
   },
   "file_extension": ".py",
   "mimetype": "text/x-python",
   "name": "python",
   "nbconvert_exporter": "python",
   "pygments_lexer": "ipython3",
   "version": "3.9.6"
  }
 },
 "nbformat": 4,
 "nbformat_minor": 2
}
