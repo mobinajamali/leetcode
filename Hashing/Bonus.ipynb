{
 "cells": [
  {
   "cell_type": "markdown",
   "metadata": {},
   "source": [
    "#### Contains Duplicate: Given an integer array nums, return true if any value appears at least twice in the array, and return false if every element is distinct."
   ]
  },
  {
   "cell_type": "code",
   "execution_count": 1,
   "metadata": {},
   "outputs": [],
   "source": [
    "import collections\n",
    "from collections import defaultdict\n",
    "\n",
    "class solution:\n",
    "    def duplicate(self, nums):\n",
    "        counts = defaultdict(int)\n",
    "        for num in nums:\n",
    "            counts[num] += 1\n",
    "\n",
    "        for val in counts.values():\n",
    "            if val >= 2:\n",
    "                return True\n",
    "        return False"
   ]
  },
  {
   "cell_type": "code",
   "execution_count": 2,
   "metadata": {},
   "outputs": [],
   "source": [
    "class solution:\n",
    "    def duplicate(self, nums):\n",
    "        seen = set()\n",
    "\n",
    "        for num in nums:\n",
    "            if num in seen:\n",
    "                return True\n",
    "            else:\n",
    "                seen.add(num)"
   ]
  },
  {
   "cell_type": "markdown",
   "metadata": {},
   "source": [
    "#### Destination City: You are given the array paths, where paths[i] = [cityAi, cityBi] means there exists a direct path going from cityAi to cityBi. Return the destination city, that is, the city without any path outgoing to another city. It is guaranteed that the graph of paths forms a line without any loop, therefore, there will be exactly one destination city.\n",
    "\n"
   ]
  },
  {
   "cell_type": "code",
   "execution_count": 3,
   "metadata": {},
   "outputs": [],
   "source": [
    "class Solution:\n",
    "    def destinationCity(self, paths):\n",
    "        seen = set()\n",
    "\n",
    "        for city in paths:\n",
    "            seen.add(city[0])\n",
    "\n",
    "        for city in paths:\n",
    "            if city[1] not in seen:\n",
    "                return city[1]"
   ]
  },
  {
   "cell_type": "markdown",
   "metadata": {},
   "source": [
    "#### Path Crossing: Given a string path, where path[i] = 'N', 'S', 'E' or 'W', each representing moving one unit north, south, east, or west, respectively. You start at the origin (0, 0) on a 2D plane and walk on the path specified by path. Return true if the path crosses itself at any point, that is, if at any time you are on a location you have previously visited. Return false otherwise."
   ]
  },
  {
   "cell_type": "code",
   "execution_count": null,
   "metadata": {},
   "outputs": [],
   "source": [
    "class Solution:\n",
    "    def pathCrossing(self, path):\n",
    "        i = 0\n",
    "        j = 0\n",
    "        visited = [[0,0]]\n",
    "        for element in path:\n",
    "            if element == 'N':\n",
    "                j+=1\n",
    "            elif element == 'E':\n",
    "                i+=1\n",
    "            elif element == 'S':\n",
    "                j-=1\n",
    "            elif element == 'W':\n",
    "                i-=1\n",
    "                \n",
    "            if [i, j] in visited:\n",
    "                return True\n",
    "            else:\n",
    "                visited.append([i, j])\n",
    "        return False\n",
    "\n"
   ]
  },
  {
   "cell_type": "markdown",
   "metadata": {},
   "source": [
    "#### Permutation in String: Given two strings s1 and s2, return true if s2 contains a permutation of s1, or false otherwise. In other words, return true if one of s1's permutations is the substring of s2.\n",
    "\n"
   ]
  },
  {
   "cell_type": "code",
   "execution_count": 4,
   "metadata": {},
   "outputs": [],
   "source": [
    "class Solution:\n",
    "    def permutation(self, s1, s2):\n",
    "        left = 0\n",
    "        for right in range(len(s2)):\n",
    "            if right - left + 1 == len(s1):\n",
    "                if sorted(s2[left: right + 1]) == sorted(s1):\n",
    "                    return True\n",
    "                else:\n",
    "                    left += 1\n",
    "        \n",
    "        return False"
   ]
  },
  {
   "cell_type": "code",
   "execution_count": null,
   "metadata": {},
   "outputs": [],
   "source": [
    "class Solution:\n",
    "    def checkInclusion(self, s1, s2):\n",
    "        for i in range(len(s2)):\n",
    "            if collections.Counter(s2[i:len(s1)+i]) == collections.Counter(s1):\n",
    "                return True\n",
    "        return False"
   ]
  },
  {
   "cell_type": "markdown",
   "metadata": {},
   "source": [
    "#### Maximum Erasure Value: You are given an array of positive integers nums and want to erase a subarray containing unique elements. The score you get by erasing the subarray is equal to the sum of its elements. Return the maximum score you can get by erasing exactly one subarray. An array b is called to be a subarray of a if it forms a contiguous subsequence of a, that is, if it is equal to a[l],a[l+1],...,a[r] for some (l,r)."
   ]
  },
  {
   "cell_type": "markdown",
   "metadata": {},
   "source": [
    "> find the subarray with maximum sum that has unique elements"
   ]
  },
  {
   "cell_type": "code",
   "execution_count": null,
   "metadata": {},
   "outputs": [],
   "source": [
    "class Solution:\n",
    "    def erasureValue(self, nums):\n",
    "        seen = set()\n",
    "        left = ans = 0\n",
    "        curr = 0\n",
    "\n",
    "        for num in nums:\n",
    "            while num in seen:\n",
    "                curr -= nums[left]\n",
    "                seen.remove(nums[left])\n",
    "                left += 1\n",
    "\n",
    "            curr += num\n",
    "            seen.add(num)\n",
    "            ans = max(ans, curr)\n",
    "        \n",
    "        return ans\n"
   ]
  },
  {
   "cell_type": "markdown",
   "metadata": {},
   "source": [
    "#### Binary Subarray with Sum: Given a binary array nums and an integer goal, return the number of non-empty subarrays with a sum goal. A subarray is a contiguous part of the array.\n",
    "\n"
   ]
  },
  {
   "cell_type": "code",
   "execution_count": null,
   "metadata": {},
   "outputs": [],
   "source": [
    "class Solution:\n",
    "    def binarySubarray(self, nums, goal):\n",
    "        counts = defaultdict(int)\n",
    "        counts[0] = 1\n",
    "        ans = curr = 0\n",
    "\n",
    "        for num in nums:\n",
    "            curr += num\n",
    "            ans += counts[curr - goal]\n",
    "            counts[curr] += 1\n",
    "\n",
    "        return ans"
   ]
  },
  {
   "cell_type": "markdown",
   "metadata": {},
   "source": [
    "##### Number of Good Pairs: Given an array of integers nums, return the number of good pairs. A pair (i, j) is called good if nums[i] == nums[j] and i < j."
   ]
  },
  {
   "cell_type": "code",
   "execution_count": 5,
   "metadata": {},
   "outputs": [],
   "source": [
    "class Solution:\n",
    "    def goodPair(self, nums):\n",
    "        counts = defaultdict(int)\n",
    "        ans = 0\n",
    "\n",
    "        for i in range(len(nums)):\n",
    "            counts[nums[i]] = counts.get(nums[i], 0) + 1\n",
    "        \n",
    "        for key in counts:\n",
    "            n = counts[key]\n",
    "            if n >= 1:\n",
    "                ans = ans + (n * (n - 1)) / 2\n",
    "        \n",
    "        return ans"
   ]
  },
  {
   "cell_type": "markdown",
   "metadata": {},
   "source": [
    "#### Sort Characters by Frequency: Given a string s, sort it in decreasing order based on the frequency of the characters. The frequency of a character is the number of times it appears in the string. Return the sorted string. If there are multiple answers, return any of them."
   ]
  },
  {
   "cell_type": "code",
   "execution_count": null,
   "metadata": {},
   "outputs": [],
   "source": [
    "class Solution:\n",
    "    def frequency(self, s):\n",
    "        count = defaultdict(int)\n",
    "        for ch in s:\n",
    "            count[ch] = count.get(ch, 0) + 1\n",
    "\n",
    "        sorted_chars = sorted(count, key=lambda x: count[x], reverse=True)\n",
    "        result = ''.join(char * count[char] for char in sorted_chars)\n",
    "        return result\n"
   ]
  },
  {
   "cell_type": "markdown",
   "metadata": {},
   "source": [
    "#### Unique Number of Occurances: Given an array of integers arr, return true if the number of occurrences of each value in the array is unique or false otherwise."
   ]
  },
  {
   "cell_type": "code",
   "execution_count": null,
   "metadata": {},
   "outputs": [],
   "source": [
    "class Solution:\n",
    "    def occurances(self, arr):\n",
    "        count = defaultdict(int)\n",
    "        for num in arr:\n",
    "            count[num] = count.get(num, 0) + 1\n",
    "        \n",
    "        seen = set()\n",
    "        for key, val in count.items():\n",
    "            if val in seen:\n",
    "                return False\n",
    "            seen.add(val)\n",
    "\n",
    "        return True\n",
    "    # return len(count.values()) == len(set(count.values()))"
   ]
  },
  {
   "cell_type": "markdown",
   "metadata": {},
   "source": [
    "#### Find Lucky Integer in an Array: Given an array of integers arr, a lucky integer is an integer that has a frequency in the array equal to its value. Return the largest lucky integer in the array. If there is no lucky integer return -1."
   ]
  },
  {
   "cell_type": "code",
   "execution_count": null,
   "metadata": {},
   "outputs": [],
   "source": [
    "class Solution:\n",
    "    def luckyInteger(self, arr):\n",
    "        count = defaultdict(int)\n",
    "        for num in arr:\n",
    "            count[num] = count.get(num, 0) + 1\n",
    "\n",
    "        ans = 0\n",
    "        for key, val in count.items():\n",
    "            if key == val:\n",
    "                ans = max(ans, key)\n",
    "        \n",
    "        return ans if ans != 0 else -1"
   ]
  },
  {
   "cell_type": "markdown",
   "metadata": {},
   "source": [
    "#### Sum of Unique Elements: You are given an integer array nums. The unique elements of an array are the elements that appear exactly once in the array. Return the sum of all the unique elements of nums."
   ]
  },
  {
   "cell_type": "code",
   "execution_count": 6,
   "metadata": {},
   "outputs": [],
   "source": [
    "class Solution:\n",
    "    def uniqueElements(self, nums):\n",
    "        count = defaultdict(int)\n",
    "        for num in nums:\n",
    "            count[num] = count.get(num, 0) + 1\n",
    "\n",
    "        curr = 0\n",
    "        for key, val in count.items():\n",
    "            if val == 1:\n",
    "                curr += key\n",
    "        \n",
    "        return curr"
   ]
  },
  {
   "cell_type": "markdown",
   "metadata": {},
   "source": [
    "#### Determine if Two Strings are Close: Two strings are considered close if you can attain one from the other using the following operations: Operation 1: Swap any two existing characters. For example, abcde -> aecdb Operation 2: Transform every occurrence of one existing character into another existing character, and do the same with the other character. For example, aacabb -> bbcbaa (all a's turn into b's, and all b's turn into a's) You can use the operations on either string as many times as necessary. Given two strings, word1 and word2, return true if word1 and word2 are close, and false otherwise.\n",
    "\n"
   ]
  },
  {
   "cell_type": "code",
   "execution_count": null,
   "metadata": {},
   "outputs": [],
   "source": [
    "class Solution:\n",
    "    def closeString(self, word1, word2):\n",
    "        count1 = collections.Counter(word1)\n",
    "        count2 = collections.Counter(word2)\n",
    "\n",
    "        if set(word1) == set(word2) and  sorted(count1.values()) == sorted(count2.values()):\n",
    "            return True\n",
    "        \n",
    "        return False"
   ]
  },
  {
   "cell_type": "markdown",
   "metadata": {},
   "source": [
    "#### Costom Sort String: You are given two strings order and s. All the characters of order are unique and were sorted in some custom order previously. Permute the characters of s so that they match the order that order was sorted. More specifically, if a character x occurs before a character y in order, then x should occur before y in the permuted string. Return any permutation of s that satisfies this property.\n",
    "\n"
   ]
  },
  {
   "cell_type": "code",
   "execution_count": null,
   "metadata": {},
   "outputs": [],
   "source": [
    "class Solution:\n",
    "    def costomSort(self, order, s):\n",
    "        # given a character 'c' returns the index of the first occurance of 'c' in the string order\n",
    "        return ''.join(sorted(s, key=order.find))"
   ]
  },
  {
   "cell_type": "markdown",
   "metadata": {},
   "source": [
    "#### Word Pattern: Given a pattern and a string s, find if s follows the same pattern. Here follow means a full match, such that there is a bijection between a letter in pattern and a non-empty word in s.\n",
    "\n"
   ]
  },
  {
   "cell_type": "code",
   "execution_count": null,
   "metadata": {},
   "outputs": [],
   "source": [
    "class Solution:\n",
    "    def wordPattern(self, pattern, s):\n",
    "        "
   ]
  },
  {
   "cell_type": "code",
   "execution_count": null,
   "metadata": {},
   "outputs": [],
   "source": []
  },
  {
   "cell_type": "code",
   "execution_count": null,
   "metadata": {},
   "outputs": [],
   "source": []
  },
  {
   "cell_type": "code",
   "execution_count": null,
   "metadata": {},
   "outputs": [],
   "source": []
  },
  {
   "cell_type": "code",
   "execution_count": null,
   "metadata": {},
   "outputs": [],
   "source": []
  }
 ],
 "metadata": {
  "kernelspec": {
   "display_name": "Python 3",
   "language": "python",
   "name": "python3"
  },
  "language_info": {
   "codemirror_mode": {
    "name": "ipython",
    "version": 3
   },
   "file_extension": ".py",
   "mimetype": "text/x-python",
   "name": "python",
   "nbconvert_exporter": "python",
   "pygments_lexer": "ipython3",
   "version": "3.9.6"
  }
 },
 "nbformat": 4,
 "nbformat_minor": 2
}
