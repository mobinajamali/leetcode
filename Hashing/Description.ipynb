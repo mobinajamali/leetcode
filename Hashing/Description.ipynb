{
 "cells": [
  {
   "cell_type": "markdown",
   "metadata": {},
   "source": [
    "> #### a hash map is an unordered data structure that stores key-value pairs. A hash map can add and remove elements in O(1), as well as update values associated with a key and check if a key exists, also in O(1). You can iterate over both the keys and values of a hash map, but the iteration won't necessarily follow any order (there are many implementations and this is language dependent for the built-in types).\n",
    "> #### Typically, the only constraint on a hash map's key is that it has to be immutable (this is language dependent but generally a good rule of thumb). Values can be anything. Depending on the language you're using, there are several ways to convert an array into a unique immutable key. In Python, tuples are immutable, so it's as easy as doing tuple(arr). Another trick is to convert the array into a string, delimited by some character that is guaranteed to not show up in any element."
   ]
  },
  {
   "cell_type": "markdown",
   "metadata": {},
   "source": [
    "## Trade offs and Disadvantages:"
   ]
  },
  {
   "cell_type": "markdown",
   "metadata": {},
   "source": [
    "### 1. The biggest disadvantage of hash maps is that for smaller input sizes, they can be slower due to overhead. Because big O ignores constants, the  O(1) time complexity can sometimes be deceiving - it's usually something more like  O(10) because every key needs to go through the hash function, and there can also be collisions, which we will talk about in the next section."
   ]
  },
  {
   "cell_type": "markdown",
   "metadata": {},
   "source": [
    "### 2. Hash tables can also take up more space. Dynamic arrays are actually fixed-size arrays that resize themselves when they go beyond their capacity. Hash tables are also implemented using a fixed size array - remember that the size is a limit set by the programmer. The problem is, resizing a hash table is much more expensive because every existing key needs to be re-hashed, and also a hash table may use an array that is significantly larger than the number of elements stored, resulting in a huge waste of space. Let's say you chose your limit as 10,000 items, but you only end up storing 10. Okay, you could argue that 10,000 is too large, but then what if your next test case ends up needing to store 100,000 elements? The point is, when you don't know how many elements you need to store, arrays are more flexible with resizing and not wasting space."
   ]
  },
  {
   "cell_type": "markdown",
   "metadata": {},
   "source": [
    "## Colisions:"
   ]
  },
  {
   "cell_type": "markdown",
   "metadata": {},
   "source": [
    "#### When different keys convert to the same integer, it is called a collision. Without handling collisions, older keys will get overridden and data will be lost. There are multiple ways to handle collisions, but here we'll talk about a common one called chaining. When using chaining, we store linked lists inside the hash map's array instead of the elements themselves. The linked list nodes store both the key and the value. If there are collisions, the collided key-value pairs are linked together in a linked list. Then, when trying to access one of these key-value pairs, we traverse through the linked list until the key matches."
   ]
  },
  {
   "cell_type": "markdown",
   "metadata": {},
   "source": [
    "> Collisions are problematic because handling them is necessary, and handling them takes time, slowing down the overall speed and efficiency of the hash map. How can we design our hash map to minimize collisions? The most important thing is that the size of your hash table's array and modulus is a prime number. Prime numbers near significant magnitudes that are common to use are:\n",
    "\n",
    "10,007  \n",
    "1,000,003  \n",
    "1,000,000,007"
   ]
  },
  {
   "cell_type": "markdown",
   "metadata": {},
   "source": []
  },
  {
   "cell_type": "code",
   "execution_count": null,
   "metadata": {},
   "outputs": [],
   "source": [
    "# Declaration: a hash map is declared like any other variable. The syntax is {}\n",
    "hash_map = {}\n",
    "\n",
    "# If you want to initialize it with some key value pairs, use the following syntax:\n",
    "hash_map = {1: 2, 5: 3, 7: 2}\n",
    "\n",
    "# Checking if a key exists: simply use the `in` keyword\n",
    "1 in hash_map # True\n",
    "9 in hash_map # False\n",
    "\n",
    "# Accessing a value given a key: use square brackets, similar to an array.\n",
    "hash_map[5] # 3\n",
    "\n",
    "# Adding or updating a key: use square brackets, similar to an array.\n",
    "# If the key already exists, the value will be updated\n",
    "hash_map[5] = 6\n",
    "\n",
    "# If the key doesn't exist yet, the key value pair will be inserted\n",
    "hash_map[9] = 15\n",
    "\n",
    "# Deleting a key: use the del keyword. Key must exist or you will get an error.\n",
    "del hash_map[9]\n",
    "\n",
    "# Get size\n",
    "len(hash_map) # 3\n",
    "\n",
    "# Get keys: use .keys(). You can iterate over this using a for loop.\n",
    "keys = hash_map.keys()\n",
    "for key in keys:\n",
    "    print(key)\n",
    "\n",
    "# Get values: use .values(). You can iterate over this using a for loop.\n",
    "values = hash_map.values()\n",
    "for val in values:\n",
    "    print(val)\n",
    "\n",
    "for key, val in hash_map.items():\n",
    "    print(f\"{key}: {val}\")"
   ]
  }
 ],
 "metadata": {
  "language_info": {
   "name": "python"
  }
 },
 "nbformat": 4,
 "nbformat_minor": 2
}
