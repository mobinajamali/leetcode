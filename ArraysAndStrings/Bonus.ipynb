{
 "cells": [
  {
   "cell_type": "markdown",
   "metadata": {},
   "source": [
    "### Reverse Words in a String III: \n",
    "#### Given a string s, reverse the order of characters in each word within a sentence while still preserving whitespace and initial word order."
   ]
  },
  {
   "cell_type": "code",
   "execution_count": 10,
   "metadata": {},
   "outputs": [],
   "source": [
    "class Solution:\n",
    "    def reverseWords(self, s):\n",
    "        return ''.join(word[::-1] for word in s.split(\" \"))"
   ]
  },
  {
   "cell_type": "code",
   "execution_count": 11,
   "metadata": {},
   "outputs": [
    {
     "name": "stdout",
     "output_type": "stream",
     "text": [
      "anibom\n"
     ]
    }
   ],
   "source": [
    "sol = Solution()\n",
    "result = sol.reverseWords('mobina')\n",
    "print(result)"
   ]
  },
  {
   "cell_type": "markdown",
   "metadata": {},
   "source": [
    "### Reverse Only Letters:\n",
    "#### Given a string s, reverse the string according to the following rules: All the characters that are not English letters remain in the same position. All the English letters (lowercase or uppercase) should be reversed. Return s after reversing it."
   ]
  },
  {
   "cell_type": "code",
   "execution_count": 13,
   "metadata": {},
   "outputs": [],
   "source": [
    "class Solution():\n",
    "    def reverseLetters(self, s):\n",
    "        array = list(s)\n",
    "        left = 0\n",
    "        right = len(s) - 1\n",
    "\n",
    "        while left < right:\n",
    "\n",
    "            if not array[left].isalpha():\n",
    "                left += 1\n",
    "                continue\n",
    "\n",
    "            if not array[right].isalpha():\n",
    "                right -= 1\n",
    "                continue\n",
    "\n",
    "            array[left], array[right] = array[right], array[left]\n",
    "            left += 1\n",
    "            right -= 1\n",
    "        \n",
    "        return ''.join(array)\n"
   ]
  },
  {
   "cell_type": "markdown",
   "metadata": {},
   "source": [
    "### Move Zeroes:\n",
    "#### Given an integer array nums, move all 0's to the end of it while maintaining the relative order of the non-zero elements. Note that you must do this in-place without making a copy of the array."
   ]
  },
  {
   "cell_type": "code",
   "execution_count": 16,
   "metadata": {},
   "outputs": [],
   "source": [
    "class Solution():\n",
    "    def moveZeroes(self, nums):\n",
    "        left = 0\n",
    "        for right in range(len(nums)):\n",
    "            if nums[right] != 0:\n",
    "                nums[left], nums[right] = nums[right], nums[left]\n",
    "                left += 1\n",
    "        \n",
    "        return nums\n"
   ]
  },
  {
   "cell_type": "markdown",
   "metadata": {},
   "source": [
    "### Reverse Prefix of Word:\n",
    "#### Given a 0-indexed string word and a character ch, reverse the segment of word that starts at index 0 and ends at the index of the first occurrence of ch (inclusive). If the character ch does not exist in word, do nothing. For example, if word = \"abcdefd\" and ch = \"d\", then you should reverse the segment that starts at 0 and ends at 3 (inclusive). The resulting string will be \"dcbaefd\". Return the resulting string."
   ]
  },
  {
   "cell_type": "code",
   "execution_count": 15,
   "metadata": {},
   "outputs": [],
   "source": [
    "class Solution():\n",
    "    def reversePrefix(self, word, ch):\n",
    "        if ch not in word:\n",
    "            return word\n",
    "        else:\n",
    "            index = word.find(ch)\n",
    "            return (word[0: index+1])[::-1] + word[index+1:]"
   ]
  },
  {
   "cell_type": "code",
   "execution_count": null,
   "metadata": {},
   "outputs": [],
   "source": []
  },
  {
   "cell_type": "markdown",
   "metadata": {},
   "source": [
    "### Minimum Size Subarray Sum:\n",
    "#### Given an array of positive integers nums and a positive integer target, return the minimal length of a subarray whose sum is greater than or equal to target. If there is no such subarray, return 0 instead."
   ]
  },
  {
   "cell_type": "code",
   "execution_count": 29,
   "metadata": {},
   "outputs": [],
   "source": [
    "class Solution():\n",
    "    def minSubarraySum(self, nums, target):\n",
    "        left = curr = 0\n",
    "        ans = float('inf')\n",
    "\n",
    "        for right in range(len(nums)):\n",
    "            curr += nums[right]\n",
    "\n",
    "            while curr >= target:\n",
    "                ans = min(ans, right - left + 1)\n",
    "                curr -= nums[left]\n",
    "                left += 1\n",
    "        \n",
    "        return 0 if ans == float('inf') else ans"
   ]
  },
  {
   "cell_type": "code",
   "execution_count": 30,
   "metadata": {},
   "outputs": [
    {
     "name": "stdout",
     "output_type": "stream",
     "text": [
      "2\n"
     ]
    }
   ],
   "source": [
    "sol = Solution()\n",
    "result = sol.minSubarraySum([2, 3, 1, 2, 4, 3], 7)\n",
    "print(result)"
   ]
  },
  {
   "cell_type": "markdown",
   "metadata": {},
   "source": [
    "### Maximum Number of Vowels in a Substring of Given Length:\n",
    "#### Given a string s and an integer k, return the maximum number of vowel letters in any substring of s with length k. Vowel letters in English are 'a', 'e', 'i', 'o', and 'u'."
   ]
  },
  {
   "cell_type": "code",
   "execution_count": 32,
   "metadata": {},
   "outputs": [],
   "source": [
    "class Solution():\n",
    "    def maxVowel(self, s, k):\n",
    "        vowel = set('aeiouAEIOU')\n",
    "        ans = 0\n",
    "        curr = 0\n",
    "\n",
    "        for i in range(k):\n",
    "            if s[i] in vowel:\n",
    "                curr += 1\n",
    "\n",
    "        ans = curr\n",
    "\n",
    "        for i in range(k, len(s)):\n",
    "            if s[i - k] in vowel:\n",
    "                curr -= 1\n",
    "            if s[i] in vowel:\n",
    "                curr += 1\n",
    "            ans = max(ans, curr)\n",
    "\n",
    "        return ans"
   ]
  },
  {
   "cell_type": "markdown",
   "metadata": {},
   "source": [
    "### Get Equal Substrings Within Budget:\n",
    "#### You are given two strings s and t of the same length and an integer maxCost. You want to change s to t. Changing the ith character of s to ith character of t costs |s[i] - t[i]| (i.e., the absolute difference between the ASCII values of the characters). Return the maximum length of a substring of s that can be changed to be the same as the corresponding substring of t with a cost less than or equal to maxCost. If there is no substring from s that can be changed to its corresponding substring from t, return 0."
   ]
  },
  {
   "cell_type": "code",
   "execution_count": 33,
   "metadata": {},
   "outputs": [],
   "source": [
    "class Solution():\n",
    "    def getEqualSubstring(self, s, t, maxCost):\n",
    "        left = curr = ans = 0\n",
    "        for right in range(len(s)):\n",
    "            curr += abs(ord(s[right]) - ord(t[right]))\n",
    "\n",
    "            while curr > maxCost:\n",
    "                # ord returns the unicode code(ASCII value of the characters)\n",
    "                curr -= abs(ord(s[left]) - ord(t[left]))\n",
    "                left += 1\n",
    "            ans = max(ans, right - left + 1)\n",
    "        \n",
    "        return ans\n",
    "                "
   ]
  },
  {
   "cell_type": "code",
   "execution_count": 34,
   "metadata": {},
   "outputs": [
    {
     "data": {
      "text/plain": [
       "97"
      ]
     },
     "execution_count": 34,
     "metadata": {},
     "output_type": "execute_result"
    }
   ],
   "source": [
    "# to get the ascii value of the character 'a'\n",
    "ord('a')"
   ]
  },
  {
   "cell_type": "markdown",
   "metadata": {},
   "source": [
    "### Find the Highest Altitude:\n",
    "#### There is a biker going on a road trip. The road trip consists of n + 1 points at different altitudes. The biker starts his trip on point 0 with altitude equal 0. You are given an integer array gain of length n where gain[i] is the net gain in altitude between points i​​​​​​ and i + 1 for all (0 <= i < n). Return the highest altitude of a point."
   ]
  },
  {
   "cell_type": "code",
   "execution_count": 47,
   "metadata": {},
   "outputs": [],
   "source": [
    "class Solution():\n",
    "    def highestAltitude(self, gain):\n",
    "        altitude = [0]\n",
    "        for i in range(len(gain)):\n",
    "            altitude.append(gain[i] + altitude[-1])\n",
    "        return max(altitude)"
   ]
  },
  {
   "cell_type": "code",
   "execution_count": 48,
   "metadata": {},
   "outputs": [
    {
     "name": "stdout",
     "output_type": "stream",
     "text": [
      "1\n"
     ]
    }
   ],
   "source": [
    "sol = Solution()\n",
    "result = sol.highestAltitude([-5, 1, 5, 0, -7])\n",
    "print(result)"
   ]
  },
  {
   "cell_type": "markdown",
   "metadata": {},
   "source": [
    "### Find pivot index:\n",
    "#### Given an array of integers nums, calculate the pivot index of this array. The pivot index is the index where the sum of all the numbers strictly to the left of the index is equal to the sum of all the numbers strictly to the index's right. If the index is on the left edge of the array, then the left sum is 0 because there are no elements to the left. This also applies to the right edge of the array. Return the leftmost pivot index. If no such index exists, return -1."
   ]
  },
  {
   "cell_type": "code",
   "execution_count": 44,
   "metadata": {},
   "outputs": [],
   "source": [
    "class Solution():\n",
    "    def pivotIndex(self, nums):\n",
    "        prefix = [nums[0]]\n",
    "        for i in range(1, len(nums)):\n",
    "            prefix.append(nums[i] + prefix[-1])\n",
    "        \n",
    "        for i in range(len(prefix)):\n",
    "            left = prefix[i] - nums[i]\n",
    "            right = prefix[-1] - prefix[i]\n",
    "\n",
    "            if left == right:\n",
    "                return i\n",
    "            \n",
    "        return -1"
   ]
  },
  {
   "cell_type": "markdown",
   "metadata": {},
   "source": [
    "### Range Sum Query - Immutable\n",
    "#### Given an integer array nums, handle multiple queries of the following type: Calculate the sum of the elements of nums between indices left and right inclusive where left <= right. Implement the NumArray class: NumArray(int[] nums) Initializes the object with the integer array nums. int sumRange(int left, int right) Returns the sum of the elements of nums between indices left and right inclusive (i.e. nums[left] + nums[left + 1] + ... + nums[right])."
   ]
  },
  {
   "cell_type": "code",
   "execution_count": 49,
   "metadata": {},
   "outputs": [],
   "source": [
    "class Solution():\n",
    "    def __init__(self, nums):\n",
    "        self.prefix = [nums[0]]\n",
    "        for i in range(1, len(nums)):\n",
    "            self.prefix.append(nums[i] + self.prefix[-1])\n",
    "\n",
    "    def sumRange(self, left, right):\n",
    "        if left == 0:\n",
    "            return self.prefix[right]\n",
    "        else:\n",
    "            return self.prefix[right] - self.prefix[left - 1]"
   ]
  },
  {
   "cell_type": "markdown",
   "metadata": {},
   "source": [
    "### Advantages of Computing Prefix Sum in __init__:\n",
    "\n",
    "> #### Faster Query Performance: If you expect multiple queries for different ranges using sumRange, precomputing the prefix sum in __init__ can be advantageous. It avoids recalculating the prefix sum for each query, leading to faster query performance.\n",
    "\n",
    "> #### Consistent State: The prefix sum is computed once during initialization, making the object's state consistent. Subsequent calls to sumRange can be based on the precomputed prefix sum, ensuring that the object's behavior remains predictable."
   ]
  },
  {
   "cell_type": "code",
   "execution_count": 50,
   "metadata": {},
   "outputs": [
    {
     "name": "stdout",
     "output_type": "stream",
     "text": [
      "4\n",
      "-1\n",
      "0\n"
     ]
    }
   ],
   "source": [
    "# Create an instance of Solution\n",
    "nums = [-2, 0, 3, -5, 2, -1]\n",
    "sol = Solution(nums)\n",
    "\n",
    "# Make queries using sumRange\n",
    "result1 = sol.sumRange(0, 2)\n",
    "result2 = sol.sumRange(2, 5)\n",
    "result3 = sol.sumRange(0, 5)\n",
    "\n",
    "# Print the results\n",
    "print(result1)\n",
    "print(result2)\n",
    "print(result3)"
   ]
  },
  {
   "cell_type": "code",
   "execution_count": null,
   "metadata": {},
   "outputs": [],
   "source": []
  }
 ],
 "metadata": {
  "kernelspec": {
   "display_name": "Python 3",
   "language": "python",
   "name": "python3"
  },
  "language_info": {
   "codemirror_mode": {
    "name": "ipython",
    "version": 3
   },
   "file_extension": ".py",
   "mimetype": "text/x-python",
   "name": "python",
   "nbconvert_exporter": "python",
   "pygments_lexer": "ipython3",
   "version": "3.9.6"
  }
 },
 "nbformat": 4,
 "nbformat_minor": 2
}
